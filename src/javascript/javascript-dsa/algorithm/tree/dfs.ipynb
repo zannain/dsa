{
 "cells": [
  {
   "cell_type": "markdown",
   "metadata": {},
   "source": [
    "# Depth First Search (pre-order traversal)"
   ]
  },
  {
   "cell_type": "markdown",
   "metadata": {},
   "source": [
    "**When to use** Good for finding nodes far away from the root\n"
   ]
  },
  {
   "cell_type": "markdown",
   "metadata": {},
   "source": [
    "### Time Complexity\n",
    "`O(N)` where ‘N’ is the total number of nodes in the tree. This is due to the fact that we traverse each node once.\n",
    "\n",
    "### Space Complexity\n",
    "`O(H)` where ‘H’ is the maximum height of the tree."
   ]
  },
  {
   "cell_type": "code",
   "execution_count": null,
   "metadata": {
    "vscode": {
     "languageId": "javascript"
    }
   },
   "outputs": [],
   "source": [
    "class TreeNode{\n",
    "    val;\n",
    "    left\n",
    "    right\n",
    "    constructor(val, left = null, right = null){\n",
    "        this.val = val;\n",
    "        this.left = left;\n",
    "        this.right = right;\n",
    "    }\n",
    "}"
   ]
  },
  {
   "cell_type": "code",
   "execution_count": null,
   "metadata": {
    "vscode": {
     "languageId": "javascript"
    }
   },
   "outputs": [],
   "source": [
    "\n",
    "function preOrderTraversal(root) {\n",
    "    const result = [];\n",
    "    if (!root) return result;\n",
    "\n",
    "    result.push(root.val);\n",
    "    result.push(...preOrderTraversal(root.left));\n",
    "    result.push(...preOrderTraversal(root.right));\n",
    "\n",
    "    return result;\n",
    "  }"
   ]
  },
  {
   "cell_type": "markdown",
   "metadata": {},
   "source": [
    "Max depth of a binary tree is the longest root-to-leaf path. Given a binary tree, find its max depth. Here, we define the length of the path to be the number of edges on that path, not the number of nodes."
   ]
  },
  {
   "cell_type": "code",
   "execution_count": null,
   "metadata": {
    "vscode": {
     "languageId": "javascript"
    }
   },
   "outputs": [],
   "source": [
    "function dfsMaxDepth(root) {\n",
    "    if (root === null) return 0;\n",
    "    return Math.max(dfsMaxDepth(root.left), dfsMaxDepth(root.right)) + 1;\n",
    "}\n",
    "\n",
    "function treeMaxDepth(root) {\n",
    "    return (root !== null) ? dfsMaxDepth(root) - 1 : 0;\n",
    "}"
   ]
  },
  {
   "cell_type": "markdown",
   "metadata": {},
   "source": [
    "In a binary tree, a node is labeled as \"visible\" if, on the path from the root to that node, there isn't any node with a value higher than this node's value.\n",
    "\n",
    "The root is always \"visible\" since there are no other nodes between the root and itself. Given a binary tree, count the number of \"visible\" nodes."
   ]
  },
  {
   "cell_type": "code",
   "execution_count": null,
   "metadata": {},
   "outputs": [],
   "source": [
    "function dfsVisibleNode(root, maxSoFar) {\n",
    "    if (root === null) {\n",
    "      return 0;\n",
    "    }\n",
    "    let total = 0;\n",
    "    if (root.val >= maxSoFar) {\n",
    "      total++;\n",
    "    }\n",
    "    total += dfsVisibleNode(root.left, Math.max(maxSoFar, root.val));\n",
    "    total += dfsVisibleNode(root.right, Math.max(maxSoFar, root.val));\n",
    "    return total;\n",
    "  }\n",
    "\n",
    "  function visibleTreeNode(root) {\n",
    "    return dfsVisibleNode(root, Number.NEGATIVE_INFINITY);\n",
    "  }"
   ]
  },
  {
   "cell_type": "markdown",
   "metadata": {},
   "source": [
    "A binary tree is considered balanced if, for every node in the tree, the difference in the height (or depth) of its left and right subtrees is at most 1.\n",
    "\n",
    "In other words, the depth of the two subtrees for every node in the tree differ by no more than one.\n",
    "\n",
    "The height (or depth) of a tree is defined as the number of edges on the longest path from the root node to any leaf node.\n",
    "\n",
    "Note: An empty tree is considered balanced by definition.\n",
    "\n",
    "In that case, given a binary tree, determine if it's balanced."
   ]
  },
  {
   "cell_type": "code",
   "execution_count": null,
   "metadata": {
    "vscode": {
     "languageId": "javascript"
    }
   },
   "outputs": [],
   "source": [
    "function treeHeight(tree) {\n",
    "    if (tree == null) return 0;\n",
    "    const leftHeight = treeHeight(tree.left);\n",
    "    const rightHeight = treeHeight(tree.right);\n",
    "    if (leftHeight === -1 || rightHeight === -1) return -1;\n",
    "    if (Math.abs(leftHeight - rightHeight) > 1) return -1;\n",
    "    return Math.max(leftHeight, rightHeight) + 1;\n",
    "}\n",
    "\n",
    "function isBalanced(tree) {\n",
    "    return treeHeight(tree) !== -1;\n",
    "}"
   ]
  },
  {
   "cell_type": "markdown",
   "metadata": {},
   "source": [
    "Given a binary tree, write a serialize function that converts the tree into a string and a deserialize function that converts a string to a binary tree. You may serialize the tree into any string representation you want as long as it can be deseralized."
   ]
  },
  {
   "cell_type": "code",
   "execution_count": null,
   "metadata": {
    "vscode": {
     "languageId": "javascript"
    }
   },
   "outputs": [],
   "source": [
    "function deserialize(s) {\n",
    "    return deserialize_dfs(s.split(\" \"));\n",
    "  }\n",
    "\n",
    "function deserialize_dfs(nodes) {\n",
    "  let val = nodes.shift();\n",
    "  if (val === \"x\") return val;\n",
    "  const cur = new TreeNode(parseInt(val, 10));\n",
    "  cur.left = deserialize_dfs(nodes);\n",
    "  cur.right = deserialize_dfs(nodes);\n",
    "  return cur;\n",
    "}\n"
   ]
  },
  {
   "cell_type": "code",
   "execution_count": null,
   "metadata": {
    "vscode": {
     "languageId": "javascript"
    }
   },
   "outputs": [],
   "source": [
    "  const serializedTree = \"1 2 4 x x 5 x x 3 x x\";\n",
    "  const deserializedTree = deserialize(serializedTree);\n",
    "  console.log(\"Deserialized Tree\", deserializedTree);"
   ]
  },
  {
   "cell_type": "code",
   "execution_count": null,
   "metadata": {
    "vscode": {
     "languageId": "javascript"
    }
   },
   "outputs": [],
   "source": [
    "function serialize(root) {\n",
    "    let res = [];\n",
    "    serialize_dfs(root, res);\n",
    "    return res.join(\" \");\n",
    "  }\n",
    "\n",
    "  function serialize_dfs(root, res) {\n",
    "    if (!root) {\n",
    "      res.push(\"x\");\n",
    "      return;\n",
    "    }\n",
    "    res.push(root.val);\n",
    "    serialize_dfs(root.left, res);\n",
    "    serialize_dfs(root.right, res);\n",
    "  }\n",
    "\n"
   ]
  },
  {
   "cell_type": "code",
   "execution_count": null,
   "metadata": {
    "vscode": {
     "languageId": "javascript"
    }
   },
   "outputs": [],
   "source": [
    "const rootNode = new TreeNode(1);\n",
    "rootNode.left = new TreeNode(2);\n",
    "rootNode.right = new TreeNode(3);\n",
    "rootNode.left.left = new TreeNode(4);\n",
    "rootNode.left.right = new TreeNode(5);\n",
    "\n",
    "const serializedTree = serialize(rootNode);\n",
    "console.log(\"Serialized Tree:\", serializedTree);"
   ]
  },
  {
   "cell_type": "markdown",
   "metadata": {},
   "source": [
    "Given a binary tree, invert it and return the new value. You may invert it in-place.\n",
    "\n",
    "To \"invert\" a binary tree, switch the left subtree and the right subtree, and invert them both. Inverting an empty tree does nothing."
   ]
  },
  {
   "cell_type": "code",
   "execution_count": null,
   "metadata": {
    "vscode": {
     "languageId": "javascript"
    }
   },
   "outputs": [],
   "source": [
    "function invertBinaryTree(tree) {\n",
    "    if (tree === null) { return null}\n",
    "    return new TreeNode(tree.val, invertBinaryTree(tree.right), invertBinaryTree(tree.left));\n",
    "}"
   ]
  },
  {
   "cell_type": "code",
   "execution_count": null,
   "metadata": {
    "vscode": {
     "languageId": "javascript"
    }
   },
   "outputs": [],
   "source": [
    "const rootNode = new TreeNode(1);\n",
    "rootNode.left = new TreeNode(2);\n",
    "rootNode.right = new TreeNode(3);\n",
    "rootNode.left.left = new TreeNode(4);\n",
    "rootNode.left.right = new TreeNode(5);\n",
    "let result = invertBinaryTree(rootNode);\n",
    "console.log(result)"
   ]
  },
  {
   "cell_type": "markdown",
   "metadata": {},
   "source": [
    "Given a binary tree and a number sequence, find if the sequence is present as a root-to-leaf path in the given tree."
   ]
  },
  {
   "cell_type": "code",
   "execution_count": null,
   "metadata": {
    "vscode": {
     "languageId": "javascript"
    }
   },
   "outputs": [],
   "source": [
    "function findPathRecursive(currentNode, sequence, sequenceIndex) {\n",
    "    if (currentNode === null) {\n",
    "      return false;\n",
    "    }\n",
    "    if (sequenceIndex >= sequence.length || currentNode.val !== sequence[sequenceIndex]) {\n",
    "      return false;\n",
    "    }\n",
    "\n",
    "    if (currentNode.left === null && currentNode.right === null\n",
    "      && sequenceIndex === sequence.length - 1) {\n",
    "      return true;\n",
    "    }\n",
    "\n",
    "    return this.findPathRecursive(currentNode.left, sequence, sequenceIndex + 1) ||\n",
    "      this.findPathRecursive(currentNode.right, sequence, sequenceIndex + 1);\n",
    "  }\n",
    "  function findPath(root, sequence) {\n",
    "    if (root === null) {\n",
    "      return sequence.length === 0;\n",
    "    }\n",
    "\n",
    "    return this.findPathRecursive(root, sequence, 0);\n",
    "\n",
    "  }"
   ]
  }
 ],
 "metadata": {
  "kernelspec": {
   "display_name": "Deno",
   "language": "typescript",
   "name": "deno"
  },
  "language_info": {
   "file_extension": ".ts",
   "mimetype": "text/x.typescript",
   "name": "typescript",
   "nb_converter": "script",
   "pygments_lexer": "typescript",
   "version": "5.3.3"
  }
 },
 "nbformat": 4,
 "nbformat_minor": 2
}
