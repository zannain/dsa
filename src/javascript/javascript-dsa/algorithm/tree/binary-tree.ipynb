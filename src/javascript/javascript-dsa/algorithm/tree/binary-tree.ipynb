{
 "cells": [
  {
   "cell_type": "markdown",
   "metadata": {},
   "source": [
    "# Binary Tree"
   ]
  },
  {
   "cell_type": "markdown",
   "metadata": {},
   "source": [
    "A binary search tree is a binary tree with the property that for any node, the value of this node is greater than any node in its left subtree and less than any node's value in its right subtree. In other words, an inorder traversal of a binary search tree yields a list of values that is monotonically increasing (strictly increasing).\n",
    "\n",
    "Given a binary tree, determine whether it is a binary search tree."
   ]
  },
  {
   "cell_type": "code",
   "execution_count": 1,
   "metadata": {},
   "outputs": [],
   "source": [
    "function validBst(root) {\n",
    "    function dfs(root, min_val, max_val) {\n",
    "      if (!root) return true;\n",
    "\n",
    "      if (!(min_val < root.val && root.val < max_val)) return false;\n",
    "\n",
    "      return (\n",
    "        dfs(root.left, min_val, root.val) && dfs(root.right, root.val, max_val)\n",
    "      );\n",
    "    }\n",
    "\n",
    "    return dfs(root, Number.NEGATIVE_INFINITY, Number.POSITIVE_INFINITY); // root is always valid\n",
    "  }"
   ]
  },
  {
   "cell_type": "markdown",
   "metadata": {},
   "source": [
    "Given the root node of a valid BST and a value to insert into the tree, return a new root node representing the valid BST with the addition of the new item. If the new item already exists in the binary search tree, do not insert anything.\n",
    "\n",
    "You must expand on the original BST by adding a leaf node. Do not change the structure of the original BST."
   ]
  },
  {
   "cell_type": "code",
   "execution_count": 2,
   "metadata": {},
   "outputs": [],
   "source": [
    "function insert(tree: TreeNode | null, val: number) {\n",
    "    if (tree == null) return new TreeNode(val);\n",
    "    if (tree.val < val) {\n",
    "      tree.right = insert(tree.right, val);\n",
    "    } else if (tree.val > val) {\n",
    "      tree.left = insert(tree.left, val);\n",
    "    }\n",
    "    return tree;\n",
    "  }\n",
    "\n",
    "\n",
    "  function insertBst(bst: TreeNode | null, val) {\n",
    "    if (bst === null) {\n",
    "      return new TreeNode(val);\n",
    "    }\n",
    "    if (bst.val < val) {\n",
    "      bst.right = insertBst(bst.right, val);\n",
    "    } else if (bst.val > val) {\n",
    "      bst.left = insertBst(bst.left, val);\n",
    "    }\n",
    "    return bst;\n",
    "  }"
   ]
  },
  {
   "cell_type": "markdown",
   "metadata": {},
   "source": [
    "Given a binary search tree (BST), find the lowest common ancestor (LCA) node of two given nodes in the BST.\n",
    "\n",
    "According to the definition of LCA on Wikipedia: “The lowest common ancestor is defined between two nodes p and q as the lowest node in T that has both p and q as descendants (where we allow a node to be a descendant of itself).”"
   ]
  },
  {
   "cell_type": "code",
   "execution_count": 3,
   "metadata": {},
   "outputs": [],
   "source": [
    "function lcaOnBst(bst, p, q) {\n",
    "    if (p < bst.val &&  q < bst.val) {\n",
    "         return lcaOnBst(bst.left, p, q);\n",
    "     } else if (p > bst.val && q > bst.val) {\n",
    "         return lcaOnBst(bst.right, p, q);\n",
    "     } else {\n",
    "         return bst.val;\n",
    "     }\n",
    " }"
   ]
  },
  {
   "cell_type": "markdown",
   "metadata": {},
   "source": [
    "Lowest common ancestor (LCA) of two nodes v and w in a tree is the lowest (i.e. deepest) node that has both v and w as descendants. We also define each node to be a descendant of itself (so if v has a direct connection from w, w is the lowest common ancestor).\n",
    "\n",
    "You can assume each node value in the tree is unique and that both target nodes are guaranteed to exist in the tree.\n",
    "\n",
    "Given two nodes of a binary tree, find their lowest common ancestor."
   ]
  },
  {
   "cell_type": "code",
   "execution_count": 4,
   "metadata": {},
   "outputs": [],
   "source": [
    "    function lca(root: TreeNode | null, node1: TreeNode, node2: TreeNode) {\n",
    "        if (!root) return;\n",
    "        // case 2 in above figure\n",
    "        if (root === node1 || root === node2) return root;\n",
    "\n",
    "        let left = lca(root.left, node1, node2);\n",
    "        let right = lca(root.right, node1, node2);\n",
    "        // case 1\n",
    "        if (left && right) return root;\n",
    "\n",
    "        // at this point, left and right can't be both non-null since we checked above\n",
    "        // case 4 and 5, report target node or LCA back to parent\n",
    "        if (left) return left;\n",
    "        if (right) return right;\n",
    "\n",
    "        // case 3, not found return null\n",
    "        return null;\n",
    "    }"
   ]
  },
  {
   "cell_type": "code",
   "execution_count": null,
   "metadata": {},
   "outputs": [],
   "source": [
    "function find(tree: TreeNode | null, val: number) {\n",
    "    if (tree == null) return false;\n",
    "    if (tree.val == val) return true;\n",
    "    else if (tree.val < val) {\n",
    "      return find(tree.right, val);\n",
    "    } else {\n",
    "      return find(tree.left, val);\n",
    "    }\n",
    "  }\n"
   ]
  }
 ],
 "metadata": {
  "kernelspec": {
   "display_name": "Deno",
   "language": "typescript",
   "name": "deno"
  },
  "language_info": {
   "file_extension": ".ts",
   "mimetype": "text/x.typescript",
   "name": "typescript",
   "nb_converter": "script",
   "pygments_lexer": "typescript",
   "version": "5.3.3"
  }
 },
 "nbformat": 4,
 "nbformat_minor": 2
}
