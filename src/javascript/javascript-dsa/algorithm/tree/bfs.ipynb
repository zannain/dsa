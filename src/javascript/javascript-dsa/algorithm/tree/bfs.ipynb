{
 "cells": [
  {
   "cell_type": "markdown",
   "metadata": {
    "slideshow": {
     "slide_type": "notes"
    }
   },
   "source": [
    "# Breadth First Traversal"
   ]
  },
  {
   "cell_type": "markdown",
   "metadata": {},
   "source": [
    "**When to use**: Finding nodes close / closest to the root"
   ]
  },
  {
   "cell_type": "markdown",
   "metadata": {},
   "source": [
    "Given a binary tree, return its level order traversal. The input is the root node of the tree. The output should be a list of lists of integers, with the ith list containing the values of nodes on level i, from left to right."
   ]
  },
  {
   "cell_type": "markdown",
   "metadata": {},
   "source": [
    "### Time Complexity\n",
    "`O(N)` where `N` is the total number of nodes in the tree\n",
    "\n",
    "### Space Complexity\n",
    "`O(N)` since we need to return a list containing the level order traversal "
   ]
  },
  {
   "cell_type": "code",
   "execution_count": null,
   "metadata": {},
   "outputs": [],
   "source": [
    "function levelOrderTraversal(root: TreeNode | null) {\n",
    "    let res: Array<number[]> = [];\n",
    "    let queue = [root];\n",
    "\n",
    "    while (queue.length > 0) {\n",
    "        const n = queue.length;\n",
    "        let new_level: number[] = [];\n",
    "        for (let i = 0; i < n; i++) {\n",
    "            const node = queue.shift();\n",
    "            node && new_level.push(node.val);\n",
    "            for (const child of [node?.left, node?.right]) {\n",
    "                child && queue.push(child)\n",
    "            }\n",
    "        }\n",
    "        res.push(new_level)\n",
    "    }\n",
    "    return res;\n",
    "}"
   ]
  },
  {
   "cell_type": "markdown",
   "metadata": {},
   "source": [
    "Given a binary tree, populate an array to represent its level-by-level traversal in reverse order, i.e., the lowest level comes first. You should populate the values of all nodes in each level from left to right in separate sub-arrays."
   ]
  },
  {
   "cell_type": "code",
   "execution_count": null,
   "metadata": {},
   "outputs": [],
   "source": [
    "function reverseLevelOrderTraversal(root: TreeNode | null) {\n",
    "    let res: Array<number[]> = [];\n",
    "    let queue = [root];\n",
    "\n",
    "    while (queue.length > 0) {\n",
    "        const n = queue.length;\n",
    "        let new_level: number[] = [];\n",
    "        for (let i = 0; i < n; i++) {\n",
    "            const node = queue.shift();\n",
    "            node && new_level.push(node.val);\n",
    "            for (const child of [node?.left, node?.right]) {\n",
    "                child && queue.push(child)\n",
    "            }\n",
    "        }\n",
    "        res.unshift(new_level)\n",
    "    }\n",
    "    return res;\n",
    "}"
   ]
  },
  {
   "cell_type": "markdown",
   "metadata": {},
   "source": [
    "Given a binary tree, return its level order traversal but in alternate left to right order."
   ]
  },
  {
   "cell_type": "code",
   "execution_count": null,
   "metadata": {},
   "outputs": [],
   "source": [
    "function zigZagTraversal(root: TreeNode | null) {\n",
    "    if (root === null) return;\n",
    "    let res: Array<number[]> = [];\n",
    "    let queue: TreeNode[] = [root];\n",
    "    let leftToRight = true;\n",
    "   while (queue.length > 0) {\n",
    "    const n = queue.length;\n",
    "    const newLevel: number[] = [];\n",
    "\n",
    "    for (let i = 0; i < n; i++) {\n",
    "        const node = queue.shift();\n",
    "        if (leftToRight) {\n",
    "            node && newLevel.push(node.val)\n",
    "        } else {\n",
    "            node && newLevel.unshift(node.val);\n",
    "        }\n",
    "        for (const child of [node?.left, node?.right]) {\n",
    "            child && queue.push(child);\n",
    "        }\n",
    "    }\n",
    "    res.push(newLevel)\n",
    "    leftToRight = !leftToRight;\n",
    "   }\n",
    "   return res;\n",
    "}"
   ]
  },
  {
   "cell_type": "markdown",
   "metadata": {},
   "source": [
    "Given a binary tree, return the rightmost node of each level.\n",
    "\n",
    "It should be noted that at each level there can only be at most one rightmost node."
   ]
  },
  {
   "cell_type": "code",
   "execution_count": 11,
   "metadata": {},
   "outputs": [
    {
     "name": "stdout",
     "output_type": "stream",
     "text": [
      "[ 0, undefined ]\n"
     ]
    }
   ],
   "source": [
    "\n",
    "function binaryTreeRightSideView(root: TreeNode | null) {\n",
    "    if (root === null) return;\n",
    "    let res: number[] = [];\n",
    "    let queue: TreeNode[] = [root]; // at least one element in the queue to kick start bfs\n",
    "    while (queue.length > 0) {  // as long as there is element in the queue\n",
    "        const n = queue.length;  // number of nodes in current level\n",
    "        res.push(queue[0].val);  // only append the first node we encounter since it's the rightmost\n",
    "        for (let i = 0; i < n; i++) {  // dequeue each node in the current level\n",
    "            const node = queue.shift();\n",
    "            // add right child first so it'll pop out of the queue first\n",
    "            for (const child of [node?.right, node?.left]) {\n",
    "                if (child) queue.push(child);\n",
    "            }\n",
    "        }\n",
    "    }\n",
    "    return res;\n",
    "}"
   ]
  },
  {
   "cell_type": "markdown",
   "metadata": {},
   "source": [
    "Given a binary tree, find the depth of the shallowest leaf node."
   ]
  },
  {
   "cell_type": "code",
   "execution_count": null,
   "metadata": {},
   "outputs": [],
   "source": [
    "function binaryTreeMinDepth(root) {\n",
    "    let depth = -1;\n",
    "    let queue = [root];\n",
    "\n",
    "    while (queue.length > 0) {\n",
    "        const n = queue.length;\n",
    "        depth++;\n",
    "        for (let i = 0; i < n; i++) {\n",
    "            const node = queue.shift();\n",
    "            if (!node.left && !node.right) {\n",
    "                 return depth;\n",
    "            }\n",
    "            for (const child of [node.left, node.right]) {\n",
    "                if (child) queue.push(child)\n",
    "            }\n",
    "        }\n",
    "\n",
    "    }\n",
    "    return depth;\n",
    "}\n"
   ]
  },
  {
   "cell_type": "markdown",
   "metadata": {},
   "source": [
    "Given a binary tree and a node, find the level order successor of the given node in the tree. The level order successor is the node that appears right after the given node in the level order traversal."
   ]
  },
  {
   "cell_type": "code",
   "execution_count": null,
   "metadata": {},
   "outputs": [],
   "source": [
    "function findSuccessor(root, key) {\n",
    "    let queue = [root];\n",
    "\n",
    "    while (queue.length > 0) {\n",
    "      const n = queue.length;\n",
    "      let node = queue.shift();\n",
    "\n",
    "      if (node.left !== null) {\n",
    "        queue.push(node.left);\n",
    "      }\n",
    "      if (node.right !== null) {\n",
    "        queue.push(node.right);\n",
    "      }\n",
    "      if (node.val === key) {\n",
    "        break;\n",
    "      }\n",
    "    }\n",
    "    if (queue.length > 0) {\n",
    "      return queue[0]\n",
    "    }\n",
    "    return null;\n",
    "  }"
   ]
  },
  {
   "cell_type": "markdown",
   "metadata": {},
   "source": [
    "Given a binary tree, connect each node with its level order successor. The last node of each level should point to a null node."
   ]
  },
  {
   "cell_type": "code",
   "execution_count": null,
   "metadata": {},
   "outputs": [],
   "source": [
    "function connect(root: TreeNode | null) {\n",
    "    if (root === null) {\n",
    "    return null;\n",
    "    }\n",
    "    const queue : TreeNode[] = [];\n",
    "    queue.push(root);\n",
    "    while (queue.length > 0) {\n",
    "      const n = queue.length;\n",
    "      let previousNode;\n",
    "      for (let i = 0; i < n; i++) {\n",
    "        let currentNode = queue.shift();\n",
    "\n",
    "        if (previousNode !== null) {\n",
    "          previousNode.next = currentNode\n",
    "        }\n",
    "        previousNode = currentNode\n",
    "\n",
    "        if (currentNode && currentNode.left !== null) {\n",
    "          queue.push(currentNode.left);\n",
    "        }\n",
    "        if (currentNode && currentNode?.right !== null) {\n",
    "          queue.push(currentNode.right);\n",
    "        }\n",
    "\n",
    "      }\n",
    "    }\n",
    "    return root;\n",
    "  }"
   ]
  },
  {
   "cell_type": "markdown",
   "metadata": {},
   "source": [
    "Given a binary tree, return an array containing nodes in its right view. The right view of a binary tree is the set of nodes visible when the tree is seen from the right side."
   ]
  },
  {
   "cell_type": "code",
   "execution_count": null,
   "metadata": {},
   "outputs": [],
   "source": [
    "function traverse(root: TreeNode | null) {\n",
    "    let result: number[] = []; // Array<number>\n",
    "    if (root === null) {\n",
    "      return root;\n",
    "    }\n",
    "    const queue: TreeNode[] = [];\n",
    "    queue.push(root);\n",
    "\n",
    "    while (queue.length > 0) {\n",
    "      const queueSize = queue.length;\n",
    "      for (let i = 0; i < queueSize; i++) {\n",
    "\n",
    "        const currentNode = queue.shift();\n",
    "\n",
    "        if (i === queueSize - 1 && currentNode) {\n",
    "          result.push(currentNode.val);\n",
    "        }\n",
    "        if (currentNode && currentNode?.left !== null) {\n",
    "          queue.push(currentNode.left);\n",
    "        }\n",
    "        if (currentNode && currentNode?.right !== null) {\n",
    "          queue.push(currentNode.right);\n",
    "        }\n",
    "      }\n",
    "    }\n",
    "\n",
    "    return result;\n",
    "  }"
   ]
  }
 ],
 "metadata": {
  "kernelspec": {
   "display_name": "Deno",
   "language": "typescript",
   "name": "deno"
  },
  "language_info": {
   "file_extension": ".ts",
   "mimetype": "text/x.typescript",
   "name": "typescript",
   "nb_converter": "script",
   "pygments_lexer": "typescript",
   "version": "5.3.3"
  }
 },
 "nbformat": 4,
 "nbformat_minor": 2
}
